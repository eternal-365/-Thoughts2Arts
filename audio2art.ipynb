import os
import torch
import gradio as gr
from diffusers import StableDiffusionPipeline
import whisper
from datetime import datetime
from PIL import Image

# Ensure 'generatedimages' folder exists
os.makedirs("generatedimages", exist_ok=True)

# Load AI Models
pipe = StableDiffusionPipeline.from_pretrained("runwayml/stable-diffusion-v1-5").to("cuda" if torch.cuda.is_available() else "cpu")
model = whisper.load_model("base")

# Function: Convert Text to Image & Save
def generate_image(prompt, width, height):
    with torch.inference_mode():
        image = pipe(prompt, width=width, height=height).images[0]
    filename = f"generatedimages/{datetime.now().strftime('%Y%m%d%H%M%S')}.png"
    image.save(filename)
    return image, filename

# Function: Convert Audio to Text
def audio_to_text(audio):
    result = model.transcribe(audio)
    return result["text"]

# Function: Convert Audio to Image & Save
def audio_to_image(audio, width, height):
    text = audio_to_text(audio)
    image, filename = generate_image(text, width, height)
    return text, image, filename

# Function: Edit Image (Crop, Resize, etc.)
def edit_image(image, crop_left, crop_top, crop_right, crop_bottom, new_width, new_height):
    img = Image.fromarray(image)
    if crop_left is not None and crop_top is not None and crop_right is not None and crop_bottom is not None:
        img = img.crop((crop_left, crop_top, crop_right, crop_bottom))
    if new_width and new_height:
        img = img.resize((new_width, new_height))
    return img

# Function: Clear Inputs & Outputs
def clear_all():
    return None, None, "", "", None, ""

# Custom CSS for Better Layout and Visibility
custom_css = """
body { background: #121212; color: white; font-family: 'Poppins', sans-serif; margin: 0; padding: 0; }
.gradio-container { max-width: 1100px; margin: auto; padding: 20px; }
h1 { font-size: 2rem; font-weight: bold; color: #ff9800; }
button { background: #ff5722; color: white; font-size: 1.2rem; padding: 12px; width: 100%; border: none; border-radius: 8px; cursor: pointer; }
button:hover { background: #ff9800; }
input, textarea, select { border-radius: 8px; padding: 8px; border: 1px solid #444; background: #2e2e2e; color: white; width: 100%; }
.gradio-image { border-radius: 12px; box-shadow: 0px 4px 15px rgba(0, 0, 0, 0.5); width: 100%; height: auto; }
.full-width { width: 100%; }
"""

# Gradio UI
with gr.Blocks(css=custom_css, theme="soft") as demo:
    gr.Markdown("# 🎨 **cosmoss.ai**")
    gr.Markdown("### Transform Audio into Stunning Visuals")

    with gr.Row():
        with gr.Column():
            gr.Markdown("### 🎤 Audio Input")
            audio_input = gr.Audio(sources=["microphone", "upload"], type="filepath", label="Record or Upload Audio", interactive=True)
            width = gr.Number(label="Width (px)", value=512, interactive=True)
            height = gr.Number(label="Height (px)", value=512, interactive=True)
            transcribed_text = gr.Textbox(label="Transcribed Text", interactive=False)
            edit_prompt = gr.Textbox(label="Edit Prompt", placeholder="Edit the transcribed text here...", interactive=True)
            with gr.Row():
                convert_btn = gr.Button("🎵 Convert Audio to Image", elem_classes="full-width")
                generate_from_edit_btn = gr.Button("🖌️ Generate Image from Edited Prompt", elem_classes="full-width")
        
        with gr.Column():
            gr.Markdown("### 🖼️ Generated Image")
            image_output_audio = gr.Image(label="Generated Image", elem_classes="gradio-image")
            file_path_audio = gr.Textbox(label="📂 Saved File Path", interactive=False)
            download_btn = gr.File(label="⬇️ Download Image")
            gr.Markdown("### 🛠️ Edit Image")
            crop_left = gr.Number(label="Crop Left", value=0, interactive=True)
            crop_top = gr.Number(label="Crop Top", value=0, interactive=True)
            crop_right = gr.Number(label="Crop Right", value=512, interactive=True)
            crop_bottom = gr.Number(label="Crop Bottom", value=512, interactive=True)
            new_width = gr.Number(label="New Width (px)", value=512, interactive=True)
            new_height = gr.Number(label="New Height (px)", value=512, interactive=True)
            edit_image_btn = gr.Button("✂️ Apply Edits", elem_classes="full-width")

    with gr.Row():
        clear_btn = gr.Button("🧹 Clear All", elem_classes="full-width")

    convert_btn.click(audio_to_image, inputs=[audio_input, width, height], outputs=[transcribed_text, image_output_audio, file_path_audio, download_btn])
    generate_from_edit_btn.click(generate_image, inputs=[edit_prompt, width, height], outputs=[image_output_audio, file_path_audio, download_btn])
    edit_image_btn.click(edit_image, inputs=[image_output_audio, crop_left, crop_top, crop_right, crop_bottom, new_width, new_height], outputs=image_output_audio)
    clear_btn.click(clear_all, outputs=[audio_input, image_output_audio, transcribed_text, file_path_audio, edit_prompt, width, height])

demo.launch(share=True)
